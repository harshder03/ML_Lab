{
 "cells": [
  {
   "cell_type": "code",
   "execution_count": 1,
   "id": "8b86b022",
   "metadata": {},
   "outputs": [],
   "source": [
    "import numpy as np"
   ]
  },
  {
   "cell_type": "code",
   "execution_count": 8,
   "id": "633d6681",
   "metadata": {},
   "outputs": [
    {
     "name": "stdout",
     "output_type": "stream",
     "text": [
      "Enter a statement to print:5\n",
      "Hello 55\n"
     ]
    }
   ],
   "source": [
    "def fun1(s):\n",
    "    print(\"Hello\",s*2)\n",
    "st=input(\"Enter a statement to print:\")\n",
    "fun1(st)"
   ]
  },
  {
   "cell_type": "code",
   "execution_count": 9,
   "id": "cfc7af4e",
   "metadata": {},
   "outputs": [
    {
     "name": "stdout",
     "output_type": "stream",
     "text": [
      "19\n"
     ]
    }
   ],
   "source": [
    "def add(a,b):\n",
    "    return a+b\n",
    "print(add(7,12))"
   ]
  },
  {
   "cell_type": "code",
   "execution_count": 13,
   "id": "e8a0e9cb",
   "metadata": {},
   "outputs": [],
   "source": [
    "import random"
   ]
  },
  {
   "cell_type": "code",
   "execution_count": 14,
   "id": "e90bd09c",
   "metadata": {},
   "outputs": [
    {
     "data": {
      "text/plain": [
       "[18, 38, 83, 75, 53, 84, 47, 54, 37, 95]"
      ]
     },
     "execution_count": 14,
     "metadata": {},
     "output_type": "execute_result"
    }
   ],
   "source": [
    "l1=random.sample(range(5,150),10)\n",
    "l1"
   ]
  },
  {
   "cell_type": "code",
   "execution_count": 48,
   "id": "9cb59204",
   "metadata": {},
   "outputs": [
    {
     "data": {
      "text/plain": [
       "[144, 80, 72, 132, 141, 138, 71, 90, 76]"
      ]
     },
     "execution_count": 48,
     "metadata": {},
     "output_type": "execute_result"
    }
   ],
   "source": [
    "l2=random.sample(range(50,150),9)\n",
    "l2"
   ]
  },
  {
   "cell_type": "code",
   "execution_count": 50,
   "id": "4c1f1165",
   "metadata": {},
   "outputs": [],
   "source": [
    "def five_number_summary(l):\n",
    "    l.sort()\n",
    "    length=len(l)\n",
    "    print('Min:',l[0])\n",
    "    print(\"Max:\",l[-1])\n",
    "    if (length%2==0):\n",
    "        print('Q1:',(l[length//4]+l[(length//4)-1])/2)\n",
    "        print('Median:',(l[(length//2)]+l[(length//2)-1])/2)\n",
    "        print('Q3:',(l[3*length//4]+l[(3*length//4)+1])/2)\n",
    "    else:\n",
    "        print('Q1:',l[(length)//4])\n",
    "        print('Median:',l[(length)//2])\n",
    "        print('Q2:',l[3*(length)//4])"
   ]
  },
  {
   "cell_type": "code",
   "execution_count": 47,
   "id": "0728a743",
   "metadata": {},
   "outputs": [
    {
     "name": "stdout",
     "output_type": "stream",
     "text": [
      "Min: 18\n",
      "Max: 95\n",
      "Q1: 37.5\n",
      "Median: 53.5\n",
      "Q3: 83.5\n"
     ]
    }
   ],
   "source": [
    "five_number_summary(l1)"
   ]
  },
  {
   "cell_type": "code",
   "execution_count": 41,
   "id": "3185c325",
   "metadata": {},
   "outputs": [
    {
     "data": {
      "text/plain": [
       "10"
      ]
     },
     "execution_count": 41,
     "metadata": {},
     "output_type": "execute_result"
    }
   ],
   "source": [
    "len(l1)"
   ]
  },
  {
   "cell_type": "code",
   "execution_count": 44,
   "id": "66c41ef9",
   "metadata": {},
   "outputs": [
    {
     "data": {
      "text/plain": [
       "[18, 37, 38, 47, 53, 54, 75, 83, 84, 95]"
      ]
     },
     "execution_count": 44,
     "metadata": {},
     "output_type": "execute_result"
    }
   ],
   "source": [
    "l1"
   ]
  },
  {
   "cell_type": "code",
   "execution_count": 51,
   "id": "2050862f",
   "metadata": {},
   "outputs": [
    {
     "name": "stdout",
     "output_type": "stream",
     "text": [
      "Min: 71\n",
      "Max: 144\n",
      "Q1: 76\n",
      "Median: 90\n",
      "Q2: 138\n"
     ]
    }
   ],
   "source": [
    "five_number_summary(l2)"
   ]
  },
  {
   "cell_type": "code",
   "execution_count": 52,
   "id": "4e20003c",
   "metadata": {},
   "outputs": [
    {
     "data": {
      "text/plain": [
       "[71, 72, 76, 80, 90, 132, 138, 141, 144]"
      ]
     },
     "execution_count": 52,
     "metadata": {},
     "output_type": "execute_result"
    }
   ],
   "source": [
    "l2"
   ]
  },
  {
   "cell_type": "code",
   "execution_count": 55,
   "id": "a99fc64a",
   "metadata": {},
   "outputs": [],
   "source": [
    "import pandas as pd"
   ]
  },
  {
   "cell_type": "code",
   "execution_count": 61,
   "id": "1faa1ed1",
   "metadata": {},
   "outputs": [],
   "source": [
    "#field names\n",
    "fields =['Name',\"COE\",'Year','CGPA']\n",
    "\n",
    "#data rows for csv file\n",
    "rows=[['Nikhil','COE','2','9.0'],\n",
    "     ['Harsh','COE','2','8.7'],\n",
    "     ['Der','COE','1','9.7'],\n",
    "     ['Sagar','COE','2','3.7']]\n",
    "\n",
    "#data rows entry using dictionary\n",
    "dict_rows([{'name':'Harsh','COE':'COE','Year':'2','CGPA':'9.0'},\n",
    "          {'name':'Harsh','COE':'COE','Year':'1','CGPA':'9.7'}]])\n",
    "#defining filename for the csv file:\n",
    "filename=\"D:\\\\210968044_ML\\\\university_records.csv\"\n",
    "#Implelenting using csv liberary\n",
    "import csv\n",
    "with open(filename,'w') as csvfile:\n",
    "        #creating the csv write object\n",
    "        csvwriter=csv.writer(csvfile)\n",
    "        #writing fields\n",
    "        csvwriter.writerow(fields)\n",
    "        #Using dictionaries\n",
    "        #writer=csv.DictWriter(csvfile,fieldname=fields)\n",
    "        #writing fields\n",
    "        csvwriter.writerows(rows)"
   ]
  },
  {
   "cell_type": "code",
   "execution_count": 63,
   "id": "deb9c0b7",
   "metadata": {},
   "outputs": [
    {
     "name": "stdout",
     "output_type": "stream",
     "text": [
      "['Name', 'COE', 'Year', 'CGPA']\n",
      "[]\n",
      "['Nikhil', 'COE', '2', '9.0']\n",
      "[]\n",
      "['Harsh', 'COE', '2', '8.7']\n",
      "[]\n",
      "['Der', 'COE', '1', '9.7']\n",
      "[]\n",
      "['Sagar', 'COE', '2', '3.7']\n",
      "[]\n"
     ]
    }
   ],
   "source": [
    "#Reading the file\n",
    "from csv import reader\n",
    "with open('D:\\\\210968044_ML\\\\university_records.csv','r') as read_obj:\n",
    "    csv_reader=csv.reader(read_obj)\n",
    "    for row in csv_reader:\n",
    "        print(row)"
   ]
  },
  {
   "cell_type": "code",
   "execution_count": null,
   "id": "8b4393e8",
   "metadata": {},
   "outputs": [],
   "source": []
  }
 ],
 "metadata": {
  "kernelspec": {
   "display_name": "Python 3 (ipykernel)",
   "language": "python",
   "name": "python3"
  },
  "language_info": {
   "codemirror_mode": {
    "name": "ipython",
    "version": 3
   },
   "file_extension": ".py",
   "mimetype": "text/x-python",
   "name": "python",
   "nbconvert_exporter": "python",
   "pygments_lexer": "ipython3",
   "version": "3.9.13"
  }
 },
 "nbformat": 4,
 "nbformat_minor": 5
}

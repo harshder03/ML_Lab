{
 "cells": [
  {
   "cell_type": "code",
   "execution_count": 1,
   "id": "17b8a77f",
   "metadata": {},
   "outputs": [
    {
     "name": "stdout",
     "output_type": "stream",
     "text": [
      "Hello World\n"
     ]
    }
   ],
   "source": [
    "print ('Hello World')"
   ]
  },
  {
   "cell_type": "code",
   "execution_count": 2,
   "id": "e1e9b8e4",
   "metadata": {},
   "outputs": [],
   "source": [
    "import numpy as np\n",
    "import pandas as pd\n",
    "import matplotlib.pyplot as plt"
   ]
  },
  {
   "cell_type": "code",
   "execution_count": 15,
   "id": "79a75a0b",
   "metadata": {},
   "outputs": [],
   "source": [
    "import seaborn as sns"
   ]
  },
  {
   "cell_type": "code",
   "execution_count": 12,
   "id": "508ab3fa",
   "metadata": {},
   "outputs": [],
   "source": []
  },
  {
   "cell_type": "code",
   "execution_count": 4,
   "id": "3231f358",
   "metadata": {},
   "outputs": [],
   "source": [
    "a=5\n",
    "b=7"
   ]
  },
  {
   "cell_type": "code",
   "execution_count": 5,
   "id": "6e27982f",
   "metadata": {},
   "outputs": [
    {
     "data": {
      "text/plain": [
       "12"
      ]
     },
     "execution_count": 5,
     "metadata": {},
     "output_type": "execute_result"
    }
   ],
   "source": [
    "a+b"
   ]
  },
  {
   "cell_type": "code",
   "execution_count": 9,
   "id": "e8830d63",
   "metadata": {},
   "outputs": [
    {
     "name": "stdout",
     "output_type": "stream",
     "text": [
      "<class 'int'>\n"
     ]
    }
   ],
   "source": [
    "print(type(a))"
   ]
  },
  {
   "cell_type": "code",
   "execution_count": 10,
   "id": "338d3c0b",
   "metadata": {},
   "outputs": [
    {
     "name": "stdout",
     "output_type": "stream",
     "text": [
      "<class 'range'>\n"
     ]
    }
   ],
   "source": [
    "print(type(x))"
   ]
  },
  {
   "cell_type": "code",
   "execution_count": 13,
   "id": "fc05186f",
   "metadata": {},
   "outputs": [
    {
     "name": "stdout",
     "output_type": "stream",
     "text": [
      "range(0, 10)\n"
     ]
    }
   ],
   "source": [
    "print(x)"
   ]
  },
  {
   "cell_type": "code",
   "execution_count": 23,
   "id": "dca126c6",
   "metadata": {},
   "outputs": [
    {
     "name": "stdout",
     "output_type": "stream",
     "text": [
      "Enter a number to know if it is leess than or greater than 5: 6\n",
      "More than 5\n"
     ]
    }
   ],
   "source": [
    "x=int(input('Enter a number to know if it is leess than or greater than 5: '))\n",
    "if (x<5):\n",
    "    print('Less than 5')\n",
    "else:\n",
    "    print('More than 5')"
   ]
  },
  {
   "cell_type": "code",
   "execution_count": 36,
   "id": "ec336fb5",
   "metadata": {},
   "outputs": [],
   "source": [
    "fruits=['apple','banana','cherry']"
   ]
  },
  {
   "cell_type": "code",
   "execution_count": 30,
   "id": "385d7247",
   "metadata": {},
   "outputs": [
    {
     "name": "stdout",
     "output_type": "stream",
     "text": [
      "['apple', 'banana', 'cherry']\n"
     ]
    }
   ],
   "source": [
    "print(fruits)"
   ]
  },
  {
   "cell_type": "code",
   "execution_count": 33,
   "id": "980b54b7",
   "metadata": {},
   "outputs": [
    {
     "name": "stdout",
     "output_type": "stream",
     "text": [
      "<class 'list'>\n"
     ]
    }
   ],
   "source": [
    "print(type(fruits))"
   ]
  },
  {
   "cell_type": "code",
   "execution_count": 47,
   "id": "f30d9466",
   "metadata": {},
   "outputs": [],
   "source": [
    "fruit=fruits[0:2]"
   ]
  },
  {
   "cell_type": "code",
   "execution_count": 48,
   "id": "b882052e",
   "metadata": {},
   "outputs": [
    {
     "data": {
      "text/plain": [
       "['apple', 'banana']"
      ]
     },
     "execution_count": 48,
     "metadata": {},
     "output_type": "execute_result"
    }
   ],
   "source": [
    "fruit"
   ]
  },
  {
   "cell_type": "code",
   "execution_count": 51,
   "id": "5a316621",
   "metadata": {},
   "outputs": [
    {
     "name": "stdout",
     "output_type": "stream",
     "text": [
      "Enter a number:8\n",
      "Sum of first  8  natural numbers is  36.0\n"
     ]
    }
   ],
   "source": [
    "x=int(input('Enter a number:'))\n",
    "print('Sum of first ',x,' natural numbers is ',x*(x+1)/2)"
   ]
  },
  {
   "cell_type": "code",
   "execution_count": 52,
   "id": "94f59e4e",
   "metadata": {},
   "outputs": [
    {
     "name": "stdout",
     "output_type": "stream",
     "text": [
      "Enter your height in foots:6\n",
      "Your height in inches is  72.0  and in centimeters is  182.88\n"
     ]
    }
   ],
   "source": [
    "x=float(input('Enter your height in foots:'))\n",
    "print('Your height in inches is ',12*x,' and in centimeters is ',12*2.54*x)"
   ]
  },
  {
   "cell_type": "code",
   "execution_count": 54,
   "id": "c353a2d7",
   "metadata": {},
   "outputs": [
    {
     "name": "stdout",
     "output_type": "stream",
     "text": [
      "Enter your age to convert it in dog years:6\n",
      "Your age is  50.0  dog years\n"
     ]
    }
   ],
   "source": [
    "x=float(input('Enter your age to convert it in dog years:'))\n",
    "if x<0:\n",
    "    print('Enter valid values.')\n",
    "if x<2:\n",
    "    print(\"Your age is \",x*10.5,' dog  years')\n",
    "else:\n",
    "    print('Your age is ',21+((x-4)*4),' dog years')"
   ]
  },
  {
   "cell_type": "code",
   "execution_count": 55,
   "id": "77d01ba0",
   "metadata": {},
   "outputs": [
    {
     "name": "stdout",
     "output_type": "stream",
     "text": [
      "Enter the month to get number of days in it:January\n",
      "31 days.\n"
     ]
    }
   ],
   "source": [
    "x=input(\"Enter the month to get number of days in it:\")\n",
    "y=['January','March','May','July','August','October','December']\n",
    "z=['April','June','September','November']\n",
    "if x in y:\n",
    "    print('31 days.')\n",
    "elif x in z:\n",
    "    print('30 days.')\n",
    "elif x=='February':\n",
    "    print('28 or 29 days')\n",
    "else :\n",
    "    print('Enter valid month')"
   ]
  },
  {
   "cell_type": "code",
   "execution_count": 56,
   "id": "4f953191",
   "metadata": {},
   "outputs": [
    {
     "name": "stdout",
     "output_type": "stream",
     "text": [
      "Enter the month number to get number of days in it:8\n",
      "31 days\n"
     ]
    }
   ],
   "source": [
    "x=int(input(\"Enter the month number to get number of days in it:\"))\n",
    "if x<8:\n",
    "    if x%2==1:\n",
    "        print('31 days')\n",
    "    elif x==2:\n",
    "        print('28 days')\n",
    "    else:\n",
    "        print('30 days')\n",
    "else:\n",
    "    if x%2==0:\n",
    "        print('31 days')\n",
    "    else :\n",
    "        print('30 days')"
   ]
  },
  {
   "cell_type": "code",
   "execution_count": 61,
   "id": "c54b15b5",
   "metadata": {},
   "outputs": [
    {
     "name": "stdout",
     "output_type": "stream",
     "text": [
      "Enter the month to get number of days in it:April\n",
      "30 days\n"
     ]
    }
   ],
   "source": [
    "months={'January':'31 days',\n",
    "       'February':'28 days',\n",
    "       'March': '31 days',\n",
    "       'April': '30 days',\n",
    "       'May':'31 days',\n",
    "       'June':'30 days',\n",
    "       'July':'31 days',\n",
    "       'August':'31 days',\n",
    "       'September':'30 days',\n",
    "       'October':'31 days',\n",
    "       'November':'30 days',\n",
    "       'December':'31 days'}\n",
    "x=input(\"Enter the month to get number of days in it:\")\n",
    "if x in months:\n",
    "    print(months[x])\n",
    "else :\n",
    "    print('Enter valid month')"
   ]
  },
  {
   "cell_type": "code",
   "execution_count": 63,
   "id": "75fbd3d2",
   "metadata": {},
   "outputs": [
    {
     "name": "stdout",
     "output_type": "stream",
     "text": [
      "Enter something:Hi \n",
      "Enter something:I am \n",
      "Enter something:Harsh \n",
      "Hi I am Harsh \n"
     ]
    }
   ],
   "source": [
    "x=''\n",
    "for i in range(3):\n",
    "    x=x+input('Enter something:')\n",
    "print(x)"
   ]
  },
  {
   "cell_type": "code",
   "execution_count": 67,
   "id": "07ff997d",
   "metadata": {},
   "outputs": [
    {
     "data": {
      "text/plain": [
       "'5 cm'"
      ]
     },
     "execution_count": 67,
     "metadata": {},
     "output_type": "execute_result"
    }
   ],
   "source": [
    "x=5\n",
    "y=' cm'\n",
    "str(x)+y"
   ]
  },
  {
   "cell_type": "code",
   "execution_count": 68,
   "id": "e5bb599c",
   "metadata": {},
   "outputs": [
    {
     "data": {
      "text/plain": [
       "['abc', 5, 6.9, 'abc', 5, 6.9]"
      ]
     },
     "execution_count": 68,
     "metadata": {},
     "output_type": "execute_result"
    }
   ],
   "source": [
    "t=['abc',5,6.9]\n",
    "t*2"
   ]
  },
  {
   "cell_type": "code",
   "execution_count": 69,
   "id": "b7705ad9",
   "metadata": {},
   "outputs": [
    {
     "data": {
      "text/plain": [
       "[234, '234', 'abc', 5, 6.9]"
      ]
     },
     "execution_count": 69,
     "metadata": {},
     "output_type": "execute_result"
    }
   ],
   "source": [
    "t2=[234,'234']\n",
    "t2+t"
   ]
  },
  {
   "cell_type": "code",
   "execution_count": 72,
   "id": "97e88a1a",
   "metadata": {},
   "outputs": [
    {
     "name": "stdout",
     "output_type": "stream",
     "text": [
      "6\n"
     ]
    }
   ],
   "source": [
    "import random\n",
    "print(random.randint(0,10))"
   ]
  },
  {
   "cell_type": "code",
   "execution_count": 105,
   "id": "696ce308",
   "metadata": {},
   "outputs": [
    {
     "name": "stdout",
     "output_type": "stream",
     "text": [
      "Mean is  5.3 , median is  4.0\n"
     ]
    }
   ],
   "source": [
    "exp=[]\n",
    "for i in range(0,10):\n",
    "    e=random.randint(0,10)\n",
    "    exp.append(e)\n",
    "mean=0\n",
    "for i in exp:\n",
    "    mean+=i\n",
    "mean/=len(exp)\n",
    "exp.sort()\n",
    "ind=len(exp)//2\n",
    "print('Mean is ',mean,', median is ',(exp[ind]+exp[ind-1])/2)"
   ]
  },
  {
   "cell_type": "code",
   "execution_count": 108,
   "id": "aeb3914d",
   "metadata": {},
   "outputs": [],
   "source": [
    "import statistics as st"
   ]
  },
  {
   "cell_type": "code",
   "execution_count": 109,
   "id": "9f980132",
   "metadata": {},
   "outputs": [
    {
     "name": "stdout",
     "output_type": "stream",
     "text": [
      "Mean is  5.3 , median is  4.0  and mode is  10\n"
     ]
    }
   ],
   "source": [
    "print(\"Mean is \",st.mean(exp),', median is ',st.median(exp),' and mode is ',st.mode(exp))"
   ]
  },
  {
   "cell_type": "code",
   "execution_count": 113,
   "id": "bad537c5",
   "metadata": {},
   "outputs": [
    {
     "name": "stdout",
     "output_type": "stream",
     "text": [
      "Enter the location of the cell:a2\n",
      "White\n"
     ]
    }
   ],
   "source": [
    "x=input(\"Enter the location of the cell:\")\n",
    "l1=['a','c','e','g']\n",
    "l2=['b','d','f','h']\n",
    "if (x[0] in l1):\n",
    "    if(int(x[1])%2==0):\n",
    "        print('White')\n",
    "    else:\n",
    "        print('Black')\n",
    "elif (x[0] in l2):\n",
    "    if(int(x[1])%2==1):\n",
    "        print('White')\n",
    "    else:\n",
    "        print('Black')\n",
    "else:\n",
    "    print('Error')"
   ]
  },
  {
   "cell_type": "code",
   "execution_count": 118,
   "id": "9e899b9f",
   "metadata": {},
   "outputs": [
    {
     "name": "stdout",
     "output_type": "stream",
     "text": [
      "Max: 10\n",
      "Min: 1\n",
      "Q1: 2\n",
      "Q2: 4.0\n",
      "Q3: 10\n",
      "IQR: 8\n"
     ]
    }
   ],
   "source": [
    "print('Max:',exp[-1])\n",
    "print('Min:',exp[0])\n",
    "print('Q1:',statistics.median(exp[0:5]))\n",
    "print('Q2:',statistics.median(exp))\n",
    "print('Q3:',statistics.median(exp[5:]))\n",
    "print('IQR:',statistics.median(exp[5:])-statistics.median(exp[0:5]))"
   ]
  },
  {
   "cell_type": "code",
   "execution_count": 117,
   "id": "03a15fab",
   "metadata": {},
   "outputs": [
    {
     "data": {
      "text/plain": [
       "[1, 1, 2, 3, 4, 4, 8, 10, 10, 10]"
      ]
     },
     "execution_count": 117,
     "metadata": {},
     "output_type": "execute_result"
    }
   ],
   "source": [
    "exp"
   ]
  },
  {
   "cell_type": "code",
   "execution_count": 123,
   "id": "b1f53c65",
   "metadata": {},
   "outputs": [
    {
     "name": "stdout",
     "output_type": "stream",
     "text": [
      "Enter the location of the cell:12\n",
      "White 1 1\n"
     ]
    }
   ],
   "source": [
    "y=x%10\n",
    "x=int(input(\"Enter the location of the cell:\"))\n",
    "x=x//10\n",
    "if (x%2==y%2):\n",
    "    print(\"White\")\n",
    "else:\n",
    "    print(\"Black\")"
   ]
  },
  {
   "cell_type": "code",
   "execution_count": null,
   "id": "3be86b93",
   "metadata": {},
   "outputs": [],
   "source": []
  }
 ],
 "metadata": {
  "kernelspec": {
   "display_name": "Python 3 (ipykernel)",
   "language": "python",
   "name": "python3"
  },
  "language_info": {
   "codemirror_mode": {
    "name": "ipython",
    "version": 3
   },
   "file_extension": ".py",
   "mimetype": "text/x-python",
   "name": "python",
   "nbconvert_exporter": "python",
   "pygments_lexer": "ipython3",
   "version": "3.9.13"
  }
 },
 "nbformat": 4,
 "nbformat_minor": 5
}
